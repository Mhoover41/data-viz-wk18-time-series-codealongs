{
 "cells": [
  {
   "cell_type": "markdown",
   "id": "25771c9c",
   "metadata": {},
   "source": [
    "# Wk18-Lecture01-CodeAlong: Preparing Time Series Data"
   ]
  },
  {
   "cell_type": "markdown",
   "id": "f20b0a55",
   "metadata": {},
   "source": [
    "## Learning Objectives"
   ]
  },
  {
   "cell_type": "markdown",
   "id": "df5eb627",
   "metadata": {},
   "source": [
    "- By the end of this CodeAlong, students will be able to:\n",
    "    - Create date time indices\n",
    "    - Resample at various frequencies\n",
    "    - Impute null values for time series \n",
    "    - Convert wide-form data to long-form\n",
    "    "
   ]
  },
  {
   "cell_type": "code",
   "execution_count": null,
   "id": "7dd25599",
   "metadata": {
    "ExecuteTime": {
     "end_time": "2023-07-03T23:06:01.235541Z",
     "start_time": "2023-07-03T23:06:01.208613Z"
    }
   },
   "outputs": [],
   "source": [
    "import pandas as pd\n",
    "import matplotlib.pyplot as plt\n",
    "import matplotlib.dates as mdates\n",
    "\n",
    "import seaborn as sns\n",
    "import numpy as np\n",
    "\n",
    "pd.set_option('display.float_format',lambda x:f\"{x:,.2f}\")"
   ]
  },
  {
   "cell_type": "code",
   "execution_count": null,
   "id": "7fc93259",
   "metadata": {
    "ExecuteTime": {
     "end_time": "2023-07-03T23:06:07.485727Z",
     "start_time": "2023-07-03T23:06:07.472666Z"
    }
   },
   "outputs": [],
   "source": [
    "sns.set_context('notebook', font_scale=0.9)\n",
    "plt.style.use(['ggplot'])"
   ]
  },
  {
   "cell_type": "markdown",
   "id": "ab280009",
   "metadata": {},
   "source": [
    "# Datetime Objects"
   ]
  },
  {
   "cell_type": "markdown",
   "id": "e096ff5d",
   "metadata": {},
   "source": [
    "In Python, we will deal with 2 types of date/time objects:\n",
    "- Python datetime\n",
    "- Panda's datetime indices"
   ]
  },
  {
   "cell_type": "code",
   "execution_count": null,
   "id": "36b92074",
   "metadata": {
    "ExecuteTime": {
     "end_time": "2023-07-03T23:06:27.176052Z",
     "start_time": "2023-07-03T23:06:27.170068Z"
    }
   },
   "outputs": [],
   "source": [
    "import datetime as dt"
   ]
  },
  {
   "cell_type": "code",
   "execution_count": null,
   "id": "58fb7058",
   "metadata": {
    "ExecuteTime": {
     "end_time": "2023-07-03T23:06:37.255672Z",
     "start_time": "2023-07-03T23:06:37.248690Z"
    }
   },
   "outputs": [],
   "source": [
    "# Get Today's date (ONLY) from python's datetime.date module\n",
    "today_date = dt.date.today()\n",
    "today_date"
   ]
  },
  {
   "cell_type": "code",
   "execution_count": null,
   "id": "7c8cb8fb",
   "metadata": {
    "ExecuteTime": {
     "end_time": "2023-07-03T23:06:47.104986Z",
     "start_time": "2023-07-03T23:06:47.098001Z"
    }
   },
   "outputs": [],
   "source": [
    "# Printed dt objects look very different!\n",
    "print(today_date)"
   ]
  },
  {
   "cell_type": "code",
   "execution_count": null,
   "id": "3660ff32",
   "metadata": {
    "ExecuteTime": {
     "end_time": "2023-07-03T23:07:01.048011Z",
     "start_time": "2023-07-03T23:07:01.040856Z"
    }
   },
   "outputs": [],
   "source": [
    "# Get Today's date(&time) from python's datetime.datetime module\n",
    "today_datetime = dt.datetime.today()\n",
    "today_datetime"
   ]
  },
  {
   "cell_type": "code",
   "execution_count": null,
   "id": "23d7b155",
   "metadata": {
    "ExecuteTime": {
     "end_time": "2023-07-03T23:07:14.605010Z",
     "start_time": "2023-07-03T23:07:14.601022Z"
    }
   },
   "outputs": [],
   "source": [
    "print(today_datetime)"
   ]
  },
  {
   "cell_type": "markdown",
   "id": "c7caf247",
   "metadata": {},
   "source": [
    "### Datetime Formats"
   ]
  },
  {
   "cell_type": "markdown",
   "id": "d72446a9",
   "metadata": {},
   "source": [
    "- Datetime objects have a `.strftime()` method (string-format-time)\n",
    "\n",
    "- 📖 **strftime cheat sheet: https://strftime.org/**\n",
    "- 📖 **Official Table of Python datetime format codes: https://docs.python.org/3/library/datetime.html#strftime-and-strptime-format-codes **\n",
    "\n",
    "\n",
    "| Directive   | Meaning                                                                                                                                                                          | Example                                                                      |\n",
    "|:------------|:---------------------------------------------------------------------------------------------------------------------------------------------------------------------------------|:-----------------------------------------------------------------------------|\n",
    "| %a          | Weekday as locale’s abbreviated name.                                                                                                                                            | Sun, Mon, …, Sat (en_US); So, Mo, …, Sa (de_DE)                              |\n",
    "| %A          | Weekday as locale’s full name.                                                                                                                                                   | Sunday, Monday, …, Saturday (en_US); Sonntag, Montag, …, Samstag (de_DE)     |\n",
    "| %w          | Weekday as a decimal number, where 0 is Sunday and 6 is Saturday.                                                                                                                | 0, 1, …, 6                                                                   |\n",
    "| %d          | Day of the month as a zero-padded decimal number.                                                                                                                                | 01, 02, …, 31                                                                |\n",
    "| %b          | Month as locale’s abbreviated name.                                                                                                                                              | Jan, Feb, …, Dec (en_US); Jan, Feb, …, Dez (de_DE)                           |\n",
    "| %B          | Month as locale’s full name.                                                                                                                                                     | January, February, …, December (en_US); Januar, Februar, …, Dezember (de_DE) |\n",
    "| %m          | Month as a zero-padded decimal number.                                                                                                                                           | 01, 02, …, 12                                                                |\n",
    "| %y          | Year without century as a zero-padded decimal number.                                                                                                                            | 00, 01, …, 99                                                                |\n",
    "| %Y          | Year with century as a decimal number.                                                                                                                                           | 0001, 0002, …, 2013, 2014, …, 9998, 9999                                     |\n",
    "| %H          | Hour (24-hour clock) as a zero-padded decimal number.                                                                                                                            | 00, 01, …, 23                                                                |\n",
    "| %I          | Hour (12-hour clock) as a zero-padded decimal number.                                                                                                                            | 01, 02, …, 12                                                                |\n",
    "| %p          | Locale’s equivalent of either AM or PM.                                                                                                                                          | AM, PM (en_US); am, pm (de_DE)                                               |\n",
    "| %M          | Minute as a zero-padded decimal number.                                                                                                                                          | 00, 01, …, 59                                                                |\n",
    "| %S          | Second as a zero-padded decimal number.                                                                                                                                          | 00, 01, …, 59                                                                |\n",
    "| %f          | Microsecond as a decimal number, zero-padded to 6 digits.                                                                                                                        | 000000, 000001, …, 999999                                                    |\n",
    "| %z          | UTC offset in the form ±HHMM[SS[.ffffff]] (empty string if the object is naive).                                                                                                 | (empty), +0000, -0400, +1030, +063415, -030712.345216                        |\n",
    "| %Z          | Time zone name (empty string if the object is naive).                                                                                                                            | (empty), UTC, GMT                                                            |\n",
    "| %j          | Day of the year as a zero-padded decimal number.                                                                                                                                 | 001, 002, …, 366                                                             |\n",
    "| %U          | Week number of the year (Sunday as the first day of the week) as a zero-padded decimal number. All days in a new year preceding the first Sunday are considered to be in week 0. | 00, 01, …, 53                                                                |\n",
    "| %W          | Week number of the year (Monday as the first day of the week) as a zero-padded decimal number. All days in a new year preceding the first Monday are considered to be in week 0. | 00, 01, …, 53                                                                |\n",
    "| %c          | Locale’s appropriate date and time representation.                                                                                                                               | Tue Aug 16 21:30:00 1988 (en_US); Di 16 Aug 21:30:00 1988 (de_DE)            |\n",
    "| %x          | Locale’s appropriate date representation.                                                                                                                                        | 08/16/88 (None); 08/16/1988 (en_US); 16.08.1988 (de_DE)                      |\n",
    "| %X          | Locale’s appropriate time representation.                                                                                                                                        | 21:30:00 (en_US); 21:30:00 (de_DE)                                           |\n",
    "| %%          | A literal '%' character.                                                                                                                                                         | %                                                                            |"
   ]
  },
  {
   "cell_type": "code",
   "execution_count": null,
   "id": "f5e83a9d",
   "metadata": {
    "ExecuteTime": {
     "end_time": "2023-07-03T23:07:38.160552Z",
     "start_time": "2023-07-03T23:07:38.153907Z"
    }
   },
   "outputs": [],
   "source": [
    "print(today_datetime)"
   ]
  },
  {
   "cell_type": "markdown",
   "id": "090267a7",
   "metadata": {},
   "source": [
    "Let's test out the strftime codes:"
   ]
  },
  {
   "cell_type": "code",
   "execution_count": null,
   "id": "f15ed688",
   "metadata": {
    "ExecuteTime": {
     "end_time": "2023-07-03T23:09:40.071912Z",
     "start_time": "2023-07-03T23:09:40.064927Z"
    }
   },
   "outputs": [],
   "source": [
    "## Month/Day/Year 24Hour Time\n",
    "mo_day_yr_24hr_time_fmt = '%m/%d/%Y %H:%M'\n",
    "today_dt_24hr_str = today_datetime.strftime(mo_day_yr_24hr_time_fmt)\n",
    "today_dt_24hr_str"
   ]
  },
  {
   "cell_type": "code",
   "execution_count": null,
   "id": "b46c9f5d",
   "metadata": {
    "ExecuteTime": {
     "end_time": "2023-07-03T23:10:22.968949Z",
     "start_time": "2023-07-03T23:10:22.960968Z"
    }
   },
   "outputs": [],
   "source": [
    "## Monday/Day/Year 12 Hour Time (+AM/PM)\n",
    "mo_day_yr_12hr_time_fmt =  '%m/%d/%Y %I:%M %p'\n",
    "\n",
    "today_dt_12hr_str = today_datetime.strftime(mo_day_yr_12hr_time_fmt)\n",
    "today_dt_12hr_str"
   ]
  },
  {
   "cell_type": "markdown",
   "id": "9381dab4",
   "metadata": {},
   "source": [
    "> `.strftime` returns a STRING"
   ]
  },
  {
   "cell_type": "code",
   "execution_count": null,
   "id": "5d4bcc8b",
   "metadata": {
    "ExecuteTime": {
     "end_time": "2023-07-03T23:10:37.507808Z",
     "start_time": "2023-07-03T23:10:37.504286Z"
    }
   },
   "outputs": [],
   "source": [
    "type(today_dt_24hr_str)"
   ]
  },
  {
   "cell_type": "markdown",
   "id": "6f1d10c7",
   "metadata": {},
   "source": [
    "We can use Pandas to convert the string to a Timestamp object"
   ]
  },
  {
   "cell_type": "code",
   "execution_count": null,
   "id": "6db05687",
   "metadata": {
    "ExecuteTime": {
     "end_time": "2023-07-03T23:10:57.840847Z",
     "start_time": "2023-07-03T23:10:57.823861Z"
    }
   },
   "outputs": [],
   "source": [
    "## Convert to Timestamp type! \n",
    "converted_date_pandas = pd.to_datetime(today_dt_24hr_str)\n",
    "converted_date_pandas"
   ]
  },
  {
   "cell_type": "markdown",
   "id": "f1b7cb0c",
   "metadata": {},
   "source": [
    "> We will use pandas datetime objects/functions whenever possible, as they save us a lot of time!"
   ]
  },
  {
   "cell_type": "markdown",
   "id": "ca7fe393",
   "metadata": {},
   "source": [
    "# Working with Time Series - Data with Regular Intervals"
   ]
  },
  {
   "cell_type": "markdown",
   "id": "2d927ed1",
   "metadata": {},
   "source": [
    "### Stock Data (S&P500)"
   ]
  },
  {
   "cell_type": "markdown",
   "id": "bfe9844e",
   "metadata": {},
   "source": [
    "- S&P 500 (Kibot) \n",
    "     - IVE S&P 500 1-min aggregate data from: http://www.kibot.com/free_historical_data.aspx"
   ]
  },
  {
   "cell_type": "code",
   "execution_count": null,
   "id": "23f17c51",
   "metadata": {
    "ExecuteTime": {
     "end_time": "2023-07-03T23:33:41.035956Z",
     "start_time": "2023-07-03T23:33:40.598967Z"
    }
   },
   "outputs": [],
   "source": [
    "sp500_min_df = pd.read_csv('Data/stocks/sp500_ive_min_tick_bidask.csv')\n",
    "sp500_min_df.head()"
   ]
  },
  {
   "cell_type": "code",
   "execution_count": null,
   "id": "174ba4f6",
   "metadata": {
    "ExecuteTime": {
     "end_time": "2023-07-03T23:34:04.856504Z",
     "start_time": "2023-07-03T23:34:04.736898Z"
    }
   },
   "outputs": [],
   "source": [
    "sp500_min_df.info()"
   ]
  },
  {
   "cell_type": "markdown",
   "id": "b86db93c",
   "metadata": {},
   "source": [
    "## Using pd.to_datetime"
   ]
  },
  {
   "cell_type": "markdown",
   "id": "2df3364e",
   "metadata": {},
   "source": [
    "#### Combine date and time"
   ]
  },
  {
   "cell_type": "code",
   "execution_count": null,
   "id": "29f5ff57",
   "metadata": {
    "ExecuteTime": {
     "end_time": "2023-07-03T23:34:24.937974Z",
     "start_time": "2023-07-03T23:34:24.831409Z"
    }
   },
   "outputs": [],
   "source": [
    "## Combine date and time into one column\n",
    "\n",
    "## Examine the results\n",
    "\n"
   ]
  },
  {
   "cell_type": "markdown",
   "id": "64b16899",
   "metadata": {},
   "source": [
    "- `pd.to_datetime` Powerful  (but slow) function for converting data to datetime."
   ]
  },
  {
   "cell_type": "code",
   "execution_count": null,
   "id": "980c1e8e",
   "metadata": {
    "ExecuteTime": {
     "end_time": "2023-07-03T23:34:38.167144Z",
     "start_time": "2023-07-03T23:34:38.009777Z"
    }
   },
   "outputs": [],
   "source": [
    "sp500_min_df.info()"
   ]
  },
  {
   "cell_type": "code",
   "execution_count": null,
   "id": "64ff2121",
   "metadata": {
    "ExecuteTime": {
     "end_time": "2023-07-03T23:34:43.575481Z",
     "start_time": "2023-07-03T23:34:43.544477Z"
    }
   },
   "outputs": [],
   "source": [
    "sp500_min_df = sp500_min_df.drop(columns=['Date','Time'])\n",
    "sp500_min_df.head()"
   ]
  },
  {
   "cell_type": "code",
   "execution_count": null,
   "id": "ada63fd3",
   "metadata": {
    "ExecuteTime": {
     "end_time": "2023-07-03T23:34:47.509978Z",
     "start_time": "2023-07-03T23:34:47.438896Z"
    }
   },
   "outputs": [],
   "source": [
    "sp500_min_df.info()"
   ]
  },
  {
   "cell_type": "code",
   "execution_count": null,
   "id": "ae85093e",
   "metadata": {
    "ExecuteTime": {
     "end_time": "2023-07-03T23:36:01.155184Z",
     "start_time": "2023-07-03T23:35:22.918988Z"
    }
   },
   "outputs": [],
   "source": [
    "%%time\n",
    "## Make a temporary datetime type column using pd.to_datetime\n",
    "\n",
    "##Examine the results\n",
    "sp500_min_df.info()"
   ]
  },
  {
   "cell_type": "markdown",
   "id": "bf12bc99",
   "metadata": {},
   "source": [
    "- We can speed up the conversion by specifying the correct time format and setting `infer_datetime_format=False`"
   ]
  },
  {
   "cell_type": "code",
   "execution_count": null,
   "id": "be360430",
   "metadata": {},
   "outputs": [],
   "source": []
  },
  {
   "cell_type": "code",
   "execution_count": null,
   "id": "9faf4a2e",
   "metadata": {
    "ExecuteTime": {
     "end_time": "2023-07-03T23:36:33.500986Z",
     "start_time": "2023-07-03T23:36:33.495002Z"
    }
   },
   "outputs": [],
   "source": [
    "## Creating/testing our time format\n",
    "fmt = ##\n",
    "today_datetime.strftime(fmt)"
   ]
  },
  {
   "cell_type": "code",
   "execution_count": null,
   "id": "ceaf9be6",
   "metadata": {
    "ExecuteTime": {
     "end_time": "2023-07-03T23:37:20.639451Z",
     "start_time": "2023-07-03T23:37:19.439863Z"
    }
   },
   "outputs": [],
   "source": [
    "%%time\n",
    "## Make a datetime index using pd.to_datetime & specifying the format  (to save time)\n",
    "\n",
    "\n",
    "## Drop the temporary datetime column\n",
    "\n",
    "## Check the results\n",
    "sp500_min_df.info()"
   ]
  },
  {
   "cell_type": "markdown",
   "id": "fcdc81ee",
   "metadata": {},
   "source": [
    "#### Set Datetime as Index"
   ]
  },
  {
   "cell_type": "code",
   "execution_count": null,
   "id": "952aaf7e",
   "metadata": {
    "ExecuteTime": {
     "end_time": "2023-07-03T23:38:16.344580Z",
     "start_time": "2023-07-03T23:38:16.318573Z"
    }
   },
   "outputs": [],
   "source": [
    "## Setting the datetime as the index\n",
    "\n",
    "## Examine the results\n",
    "sp500_min_df.index"
   ]
  },
  {
   "cell_type": "markdown",
   "id": "7414437a",
   "metadata": {},
   "source": [
    "### 🧠 Why is it useful to have the year first, month second, and day third?"
   ]
  },
  {
   "cell_type": "code",
   "execution_count": null,
   "id": "6e6dfbd8",
   "metadata": {
    "ExecuteTime": {
     "end_time": "2023-07-03T23:40:16.076175Z",
     "start_time": "2023-07-03T23:40:16.063701Z"
    }
   },
   "outputs": [],
   "source": [
    "# Only keeping Closing Ask/Bid\n",
    "\n",
    "\n",
    "df_ts"
   ]
  },
  {
   "cell_type": "code",
   "execution_count": null,
   "id": "e6a52124",
   "metadata": {
    "ExecuteTime": {
     "end_time": "2023-07-03T23:40:32.037192Z",
     "start_time": "2023-07-03T23:40:32.031699Z"
    }
   },
   "outputs": [],
   "source": [
    "# check the index to confirm its datetime\n",
    "df_ts.index"
   ]
  },
  {
   "cell_type": "markdown",
   "id": "8854c40f",
   "metadata": {},
   "source": [
    "## 📈 Visualizing Our Time Series DataFrame"
   ]
  },
  {
   "cell_type": "code",
   "execution_count": null,
   "id": "6d3b7770",
   "metadata": {
    "ExecuteTime": {
     "end_time": "2023-07-03T23:40:52.796789Z",
     "start_time": "2023-07-03T23:40:50.929105Z"
    }
   },
   "outputs": [],
   "source": [
    "## let's visualize our dataframe \n",
    "\n"
   ]
  },
  {
   "cell_type": "markdown",
   "id": "9c362fc4",
   "metadata": {},
   "source": [
    "> Time series visualizations usually require wider figures. "
   ]
  },
  {
   "cell_type": "markdown",
   "id": "7524c068",
   "metadata": {},
   "source": [
    "### Changing Default Figure Size"
   ]
  },
  {
   "cell_type": "code",
   "execution_count": null,
   "id": "126a5fe1",
   "metadata": {
    "ExecuteTime": {
     "end_time": "2023-07-03T23:41:15.374376Z",
     "start_time": "2023-07-03T23:41:15.369256Z"
    }
   },
   "outputs": [],
   "source": [
    "# check default figsize in rcParams\n",
    "\n"
   ]
  },
  {
   "cell_type": "code",
   "execution_count": null,
   "id": "4e7f8f3f",
   "metadata": {
    "ExecuteTime": {
     "end_time": "2023-07-03T23:41:24.210176Z",
     "start_time": "2023-07-03T23:41:24.206183Z"
    }
   },
   "outputs": [],
   "source": [
    "## Change the default figure size to something wider (12,5)\n",
    "\n"
   ]
  },
  {
   "cell_type": "code",
   "execution_count": null,
   "id": "ad679855",
   "metadata": {
    "ExecuteTime": {
     "end_time": "2023-07-03T23:41:28.776149Z",
     "start_time": "2023-07-03T23:41:25.815720Z"
    }
   },
   "outputs": [],
   "source": [
    "## recreate the plot\n",
    "ax = df_ts.plot()\n",
    "ax.set_title('Stock Bids and Asks at Closing')"
   ]
  },
  {
   "cell_type": "markdown",
   "id": "4a202b3d",
   "metadata": {},
   "source": [
    "## Slicing (with a Datetime Index)"
   ]
  },
  {
   "cell_type": "code",
   "execution_count": null,
   "id": "ec678d41",
   "metadata": {
    "ExecuteTime": {
     "end_time": "2023-07-03T23:42:07.429283Z",
     "start_time": "2023-07-03T23:42:07.370348Z"
    },
    "scrolled": false
   },
   "outputs": [],
   "source": [
    "## Get all/any dates from 2022\n",
    "\n"
   ]
  },
  {
   "cell_type": "code",
   "execution_count": null,
   "id": "b0122995",
   "metadata": {
    "ExecuteTime": {
     "end_time": "2023-07-03T23:42:54.453128Z",
     "start_time": "2023-07-03T23:42:54.441647Z"
    }
   },
   "outputs": [],
   "source": [
    "# Get all of january, 2022\n",
    "\n"
   ]
  },
  {
   "cell_type": "code",
   "execution_count": null,
   "id": "e30b641c",
   "metadata": {
    "ExecuteTime": {
     "end_time": "2023-07-03T23:43:09.805736Z",
     "start_time": "2023-07-03T23:43:09.774732Z"
    }
   },
   "outputs": [],
   "source": [
    "## Get January 01st, 2022 to March 16th 2022\n",
    "\n",
    "\n"
   ]
  },
  {
   "cell_type": "markdown",
   "id": "ec5a4ffe",
   "metadata": {},
   "source": [
    "> Notice the earliest date is 2020-01-03"
   ]
  },
  {
   "cell_type": "code",
   "execution_count": null,
   "id": "d7b75b36",
   "metadata": {
    "ExecuteTime": {
     "end_time": "2023-07-03T23:43:44.758641Z",
     "start_time": "2023-07-03T23:43:44.751510Z"
    }
   },
   "outputs": [],
   "source": [
    "## Get just 01/03 - AskClose\n",
    "\n"
   ]
  },
  {
   "cell_type": "markdown",
   "id": "4aa5f67c",
   "metadata": {},
   "source": [
    "#### We cannot slice out more than 1 <font color=\"red\">NON</font>-continuous date"
   ]
  },
  {
   "cell_type": "code",
   "execution_count": null,
   "id": "de498fc3",
   "metadata": {
    "ExecuteTime": {
     "end_time": "2023-07-03T23:44:08.786597Z",
     "start_time": "2023-07-03T23:44:08.777084Z"
    }
   },
   "outputs": [],
   "source": [
    "dates_to_keep = ['01/03/2022','01/05/2022']\n",
    "try: \n",
    "    df_ts.loc[dates_to_keep]\n",
    "except Exception as e:\n",
    "    display(e)"
   ]
  },
  {
   "cell_type": "code",
   "execution_count": null,
   "id": "1d78cfbc",
   "metadata": {
    "ExecuteTime": {
     "end_time": "2023-07-03T23:44:38.373988Z",
     "start_time": "2023-07-03T23:44:38.358461Z"
    }
   },
   "outputs": [],
   "source": [
    "## But can use multiple .loc's in a loop or list comprehension\n",
    "\n"
   ]
  },
  {
   "cell_type": "code",
   "execution_count": null,
   "id": "099cd69e",
   "metadata": {
    "ExecuteTime": {
     "end_time": "2023-07-03T23:45:09.653333Z",
     "start_time": "2023-07-03T23:45:09.261042Z"
    }
   },
   "outputs": [],
   "source": [
    "## saving ts to return to later\n",
    "stock_ts = df_ts.loc['2020','AskClose'].copy()\n",
    "stock_ts.plot()"
   ]
  },
  {
   "cell_type": "markdown",
   "id": "ffd31a60",
   "metadata": {},
   "source": [
    "### Using Time Deltas"
   ]
  },
  {
   "cell_type": "markdown",
   "id": "0a0d3dbc",
   "metadata": {},
   "source": [
    "> We want to slice out a ts around the date with the minumum price. We want our slice to start 5 days before and end 5 days after."
   ]
  },
  {
   "cell_type": "code",
   "execution_count": null,
   "id": "ffe5d8e1",
   "metadata": {
    "ExecuteTime": {
     "end_time": "2023-07-03T23:46:00.926784Z",
     "start_time": "2023-07-03T23:46:00.918660Z"
    }
   },
   "outputs": [],
   "source": [
    "## save timestamp of lowest price\n",
    "idx_min_price_idx = ##\n",
    "idx_min_price"
   ]
  },
  {
   "cell_type": "code",
   "execution_count": null,
   "id": "ee685f2a",
   "metadata": {
    "ExecuteTime": {
     "end_time": "2023-07-03T23:46:21.186936Z",
     "start_time": "2023-07-03T23:46:21.182441Z"
    }
   },
   "outputs": [],
   "source": [
    "try:\n",
    "    idx_min_price_idx + '4 days'\n",
    "except Exception as e:\n",
    "    display(e)"
   ]
  },
  {
   "cell_type": "code",
   "execution_count": null,
   "id": "8116c78c",
   "metadata": {
    "ExecuteTime": {
     "end_time": "2023-07-03T23:46:58.020150Z",
     "start_time": "2023-07-03T23:46:58.014658Z"
    }
   },
   "outputs": [],
   "source": [
    "## Making a time delta of 4 days with pd.to_timedelta\n",
    "delta_days = ##\n",
    "delta_days"
   ]
  },
  {
   "cell_type": "code",
   "execution_count": null,
   "id": "e55bd7f4",
   "metadata": {
    "ExecuteTime": {
     "end_time": "2023-07-03T23:47:20.060481Z",
     "start_time": "2023-07-03T23:47:20.054496Z"
    }
   },
   "outputs": [],
   "source": [
    "## Subtracting our delta to get start\n",
    "start = ##\n",
    "start"
   ]
  },
  {
   "cell_type": "code",
   "execution_count": null,
   "id": "47f7d8db",
   "metadata": {
    "ExecuteTime": {
     "end_time": "2023-07-03T23:47:25.723791Z",
     "start_time": "2023-07-03T23:47:25.718802Z"
    }
   },
   "outputs": [],
   "source": [
    "## adding our time delta to get the end\n",
    "end = ##\n",
    "end"
   ]
  },
  {
   "cell_type": "code",
   "execution_count": null,
   "id": "a775c5b1",
   "metadata": {
    "ExecuteTime": {
     "end_time": "2023-07-03T23:47:51.215180Z",
     "start_time": "2023-07-03T23:47:50.751477Z"
    }
   },
   "outputs": [],
   "source": [
    "## Annotating the time period we've selected on our entire ts\n",
    "ax = stock_ts.plot(title=\"Annotating Start and End Dates Calcualted with Timedeltas\");\n",
    "ax.axvline(start,ls='--', color='green', label='Start Date')\n",
    "ax.axvline(end, ls='--', color='red',label='End Date')\n",
    "ax.legend()"
   ]
  },
  {
   "cell_type": "code",
   "execution_count": null,
   "id": "786dd5b8",
   "metadata": {
    "ExecuteTime": {
     "end_time": "2023-07-03T23:48:06.487951Z",
     "start_time": "2023-07-03T23:48:06.477940Z"
    }
   },
   "outputs": [],
   "source": [
    "## Slicing out the timeperiod between start and end and saving as eda_ts\n",
    "eda_ts = ##\n",
    "eda_ts"
   ]
  },
  {
   "cell_type": "code",
   "execution_count": null,
   "id": "28f834c9",
   "metadata": {
    "ExecuteTime": {
     "end_time": "2023-07-03T23:48:36.842374Z",
     "start_time": "2023-07-03T23:48:36.559464Z"
    }
   },
   "outputs": [],
   "source": [
    "ax = eda_ts.plot()\n",
    "ax.set_title('Plot of March 20th 2020 to March 28th, 2020')"
   ]
  },
  {
   "cell_type": "markdown",
   "id": "397d3214",
   "metadata": {},
   "source": [
    "#### 🧠 Why are there gaps in the data above?"
   ]
  },
  {
   "cell_type": "code",
   "execution_count": null,
   "id": "5a6952a2",
   "metadata": {
    "ExecuteTime": {
     "end_time": "2023-07-03T23:49:10.941406Z",
     "start_time": "2023-07-03T23:49:10.935422Z"
    }
   },
   "outputs": [],
   "source": [
    "## Check for nulls in eda_ts...\n",
    "eda_ts.isna().sum()"
   ]
  },
  {
   "cell_type": "markdown",
   "id": "fdcdfbf6",
   "metadata": {},
   "source": [
    "> What day of the week were the days missing data?"
   ]
  },
  {
   "cell_type": "code",
   "execution_count": null,
   "id": "5f872a99",
   "metadata": {
    "ExecuteTime": {
     "end_time": "2023-07-03T23:49:35.186435Z",
     "start_time": "2023-07-03T23:49:35.182946Z"
    }
   },
   "outputs": [],
   "source": [
    "## what day of the week were the days missing data?\n",
    "\n"
   ]
  },
  {
   "cell_type": "code",
   "execution_count": null,
   "id": "4e6ba303",
   "metadata": {
    "ExecuteTime": {
     "end_time": "2023-07-03T23:49:48.053314Z",
     "start_time": "2023-07-03T23:49:48.047358Z"
    }
   },
   "outputs": [],
   "source": [
    "\n"
   ]
  },
  {
   "cell_type": "markdown",
   "id": "99ec8e94",
   "metadata": {},
   "source": [
    "#### 🧠 Is this date regular or irregular?"
   ]
  },
  {
   "cell_type": "markdown",
   "id": "317d0218",
   "metadata": {},
   "source": [
    "## Resampling"
   ]
  },
  {
   "cell_type": "markdown",
   "id": "d82e29a1",
   "metadata": {},
   "source": [
    "### Pandas Frequency Codes\n",
    "\n",
    "![pandas frequency codes](pandas_freq_cheatsheet.png)"
   ]
  },
  {
   "cell_type": "code",
   "execution_count": null,
   "id": "868414ef",
   "metadata": {
    "ExecuteTime": {
     "end_time": "2023-07-03T23:51:13.702890Z",
     "start_time": "2023-07-03T23:51:13.696904Z"
    }
   },
   "outputs": [],
   "source": [
    "# what is our datetime index's frequency?\n",
    "\n"
   ]
  },
  {
   "cell_type": "code",
   "execution_count": null,
   "id": "9748c32c",
   "metadata": {
    "ExecuteTime": {
     "end_time": "2023-07-03T23:51:39.179655Z",
     "start_time": "2023-07-03T23:51:39.167759Z"
    }
   },
   "outputs": [],
   "source": [
    "# Resample as last value by minute\n",
    "ts_min = ##\n",
    "ts_min.head()"
   ]
  },
  {
   "cell_type": "code",
   "execution_count": null,
   "id": "2239b6aa",
   "metadata": {
    "ExecuteTime": {
     "end_time": "2023-07-03T23:52:01.675412Z",
     "start_time": "2023-07-03T23:52:01.669917Z"
    }
   },
   "outputs": [],
   "source": [
    "ts_min.index"
   ]
  },
  {
   "cell_type": "code",
   "execution_count": null,
   "id": "4bac83ad",
   "metadata": {
    "ExecuteTime": {
     "end_time": "2023-07-03T23:52:19.206661Z",
     "start_time": "2023-07-03T23:52:19.200170Z"
    }
   },
   "outputs": [],
   "source": [
    "eda_ts.shape"
   ]
  },
  {
   "cell_type": "code",
   "execution_count": null,
   "id": "1323fb7e",
   "metadata": {
    "ExecuteTime": {
     "end_time": "2023-07-03T23:52:20.245285Z",
     "start_time": "2023-07-03T23:52:20.238789Z"
    }
   },
   "outputs": [],
   "source": [
    "eda_ts.isna().sum()"
   ]
  },
  {
   "cell_type": "code",
   "execution_count": null,
   "id": "ca172a3e",
   "metadata": {
    "ExecuteTime": {
     "end_time": "2023-07-03T23:52:23.947725Z",
     "start_time": "2023-07-03T23:52:23.943207Z"
    }
   },
   "outputs": [],
   "source": [
    "ts_min.shape"
   ]
  },
  {
   "cell_type": "code",
   "execution_count": null,
   "id": "8fa358ff",
   "metadata": {
    "ExecuteTime": {
     "end_time": "2023-07-03T23:52:25.094846Z",
     "start_time": "2023-07-03T23:52:25.089368Z"
    }
   },
   "outputs": [],
   "source": [
    "ts_min.isna().sum()"
   ]
  },
  {
   "cell_type": "code",
   "execution_count": null,
   "id": "9027cddb",
   "metadata": {
    "ExecuteTime": {
     "end_time": "2023-07-03T23:52:39.025285Z",
     "start_time": "2023-07-03T23:52:38.799531Z"
    }
   },
   "outputs": [],
   "source": [
    "# Plot resampled data\n",
    "ts_min.plot()"
   ]
  },
  {
   "cell_type": "markdown",
   "id": "fd41f469",
   "metadata": {},
   "source": [
    "## Imputing Null Values (time series)"
   ]
  },
  {
   "cell_type": "markdown",
   "id": "99adab43",
   "metadata": {},
   "source": [
    "### Backfill `.fillna(method='bfill')`"
   ]
  },
  {
   "cell_type": "code",
   "execution_count": null,
   "id": "55bacea6",
   "metadata": {
    "ExecuteTime": {
     "end_time": "2023-07-03T23:53:01.096437Z",
     "start_time": "2023-07-03T23:53:00.809302Z"
    }
   },
   "outputs": [],
   "source": [
    "# Fill with back fill\n",
    "\n",
    "#plot backfilled data\n",
    "ax = ts_bfill.plot(style='.-')\n",
    "ax.axvspan('2020-03-21','2020-03-23',alpha=0.5)\n",
    "ax.set(title='bfill', ylabel=\"Stock Price\");"
   ]
  },
  {
   "cell_type": "markdown",
   "id": "1cac9dcb",
   "metadata": {},
   "source": [
    "### Forward Fill `.fillna(method='ffill')`"
   ]
  },
  {
   "cell_type": "code",
   "execution_count": null,
   "id": "d181e291",
   "metadata": {
    "ExecuteTime": {
     "end_time": "2023-07-03T23:53:21.485208Z",
     "start_time": "2023-07-03T23:53:21.190304Z"
    }
   },
   "outputs": [],
   "source": [
    "# Fill with forward fill\n",
    "\n",
    "#plot forward data\n",
    "ax = ts_ffill.plot(style='.-')\n",
    "ax.axvspan('2020-03-21','2020-03-23',alpha=0.5)\n",
    "ax.set(title='ffill', ylabel=\"Stock Price\");"
   ]
  },
  {
   "cell_type": "markdown",
   "id": "b56782a5",
   "metadata": {},
   "source": [
    "### Interpolate `.interpolate()`"
   ]
  },
  {
   "cell_type": "code",
   "execution_count": null,
   "id": "e1d0a667",
   "metadata": {
    "ExecuteTime": {
     "end_time": "2023-07-03T23:53:49.057102Z",
     "start_time": "2023-07-03T23:53:48.768504Z"
    }
   },
   "outputs": [],
   "source": [
    "# Interpolate missing data\n",
    "\n",
    "# Plot interpolated data\n",
    "ax = ts_interpolate.plot(style='.-')\n",
    "ax.axvspan('2020-03-21','2020-03-23',alpha=0.5)\n",
    "ax.set(title='interpolate', ylabel=\"Stock Price\");"
   ]
  },
  {
   "cell_type": "markdown",
   "id": "c2f34c35",
   "metadata": {},
   "source": [
    "# Working with Wide-Form Time Series Data"
   ]
  },
  {
   "cell_type": "code",
   "execution_count": null,
   "id": "62f836ca",
   "metadata": {
    "ExecuteTime": {
     "end_time": "2023-07-03T23:54:29.978390Z",
     "start_time": "2023-07-03T23:54:29.864145Z"
    }
   },
   "outputs": [],
   "source": [
    "crypto = pd.read_csv(\"Data/stocks/wide-form-crypto.csv\")\n",
    "crypto"
   ]
  },
  {
   "cell_type": "code",
   "execution_count": null,
   "id": "c79e5650",
   "metadata": {
    "ExecuteTime": {
     "end_time": "2023-07-03T23:55:18.455040Z",
     "start_time": "2023-07-03T23:55:18.446550Z"
    }
   },
   "outputs": [],
   "source": [
    "## First 3 columns are id columns\n",
    "id_vars = crypto.columns[:3]\n",
    "id_vars"
   ]
  },
  {
   "cell_type": "code",
   "execution_count": null,
   "id": "6b74af60",
   "metadata": {
    "ExecuteTime": {
     "end_time": "2023-07-03T23:55:51.342045Z",
     "start_time": "2023-07-03T23:55:51.326552Z"
    }
   },
   "outputs": [],
   "source": [
    "## Melt the crypto data \n",
    "## set the var_name  as \"Date\" and the value_name was \"Currency Value\n",
    "\n",
    "long_crypto = \n",
    "long_crypto"
   ]
  },
  {
   "cell_type": "code",
   "execution_count": null,
   "id": "908c1fa3",
   "metadata": {
    "ExecuteTime": {
     "end_time": "2023-07-03T23:57:31.476545Z",
     "start_time": "2023-07-03T23:57:31.462540Z"
    }
   },
   "outputs": [],
   "source": [
    "## Now make Date column datetime \n",
    "fmt = \n",
    "long_crypto['Date'] = \n",
    "long_crypto"
   ]
  },
  {
   "cell_type": "code",
   "execution_count": null,
   "id": "bdd6aa9b",
   "metadata": {
    "ExecuteTime": {
     "end_time": "2023-07-03T23:57:35.084683Z",
     "start_time": "2023-07-03T23:57:35.071193Z"
    }
   },
   "outputs": [],
   "source": [
    "long_crypto.info()"
   ]
  },
  {
   "cell_type": "code",
   "execution_count": null,
   "id": "f0a901b4",
   "metadata": {
    "ExecuteTime": {
     "end_time": "2023-07-03T23:57:51.824071Z",
     "start_time": "2023-07-03T23:57:51.813401Z"
    }
   },
   "outputs": [],
   "source": [
    "## Set Date as index\n",
    "long_crypto = \n",
    "long_crypto"
   ]
  },
  {
   "cell_type": "code",
   "execution_count": null,
   "id": "615c84eb",
   "metadata": {
    "ExecuteTime": {
     "end_time": "2023-07-03T23:57:57.218056Z",
     "start_time": "2023-07-03T23:57:57.210304Z"
    }
   },
   "outputs": [],
   "source": [
    "long_crypto.index"
   ]
  },
  {
   "cell_type": "code",
   "execution_count": null,
   "id": "1e713028",
   "metadata": {
    "ExecuteTime": {
     "end_time": "2023-07-03T23:58:58.658316Z",
     "start_time": "2023-07-03T23:58:58.639094Z"
    }
   },
   "outputs": [],
   "source": [
    "# Aggregate by currency and resample as daily. Keep only 'Value' column\n",
    "\n",
    "crypto_ts = \n",
    "crypto_ts"
   ]
  },
  {
   "cell_type": "code",
   "execution_count": null,
   "id": "a9da0637",
   "metadata": {
    "ExecuteTime": {
     "end_time": "2023-07-03T23:59:18.355374Z",
     "start_time": "2023-07-03T23:59:18.349878Z"
    }
   },
   "outputs": [],
   "source": [
    "type(crypto_ts)"
   ]
  },
  {
   "cell_type": "code",
   "execution_count": null,
   "id": "ffeda3c7",
   "metadata": {
    "ExecuteTime": {
     "end_time": "2023-07-03T23:59:28.213825Z",
     "start_time": "2023-07-03T23:59:28.030468Z"
    }
   },
   "outputs": [],
   "source": [
    "crypto_ts.plot();"
   ]
  },
  {
   "cell_type": "markdown",
   "id": "a4357b31",
   "metadata": {},
   "source": [
    "> What are we seeing?  What do we want to see?"
   ]
  },
  {
   "cell_type": "markdown",
   "id": "cdfea70c",
   "metadata": {},
   "source": [
    "## Unstacking"
   ]
  },
  {
   "cell_type": "code",
   "execution_count": null,
   "id": "fcc1af99",
   "metadata": {
    "ExecuteTime": {
     "end_time": "2023-07-04T00:00:30.127429Z",
     "start_time": "2023-07-04T00:00:30.119484Z"
    }
   },
   "outputs": [],
   "source": [
    "crypto_ts"
   ]
  },
  {
   "cell_type": "code",
   "execution_count": null,
   "id": "399ce6da",
   "metadata": {
    "ExecuteTime": {
     "end_time": "2023-07-04T00:00:43.975933Z",
     "start_time": "2023-07-04T00:00:43.968934Z"
    }
   },
   "outputs": [],
   "source": [
    "crypto_ts.index"
   ]
  },
  {
   "cell_type": "code",
   "execution_count": null,
   "id": "b4fa9bb0",
   "metadata": {
    "ExecuteTime": {
     "end_time": "2023-07-04T00:01:29.122527Z",
     "start_time": "2023-07-04T00:01:29.110080Z"
    },
    "scrolled": false
   },
   "outputs": [],
   "source": [
    "crypto_unstacked = ##\n",
    "crypto_unstacked"
   ]
  },
  {
   "cell_type": "code",
   "execution_count": null,
   "id": "9acd79fb",
   "metadata": {
    "ExecuteTime": {
     "end_time": "2023-07-04T00:01:49.330539Z",
     "start_time": "2023-07-04T00:01:48.981935Z"
    },
    "scrolled": false
   },
   "outputs": [],
   "source": [
    "crypto_unstacked.plot();"
   ]
  },
  {
   "cell_type": "markdown",
   "id": "da572491",
   "metadata": {},
   "source": [
    "## Selecting our TS for Resampling Demonstration"
   ]
  },
  {
   "cell_type": "code",
   "execution_count": null,
   "id": "03d9746a",
   "metadata": {
    "ExecuteTime": {
     "end_time": "2023-07-04T00:02:24.950855Z",
     "start_time": "2023-07-04T00:02:24.941877Z"
    }
   },
   "outputs": [],
   "source": [
    "## Select only Bitcoin from 2021 to 2022\n",
    "ts = ##\n",
    "ts"
   ]
  },
  {
   "cell_type": "code",
   "execution_count": null,
   "id": "8dc8b9e9",
   "metadata": {
    "ExecuteTime": {
     "end_time": "2023-07-04T00:02:33.154806Z",
     "start_time": "2023-07-04T00:02:32.929648Z"
    }
   },
   "outputs": [],
   "source": [
    "ts.plot();"
   ]
  },
  {
   "cell_type": "markdown",
   "id": "a4020d95",
   "metadata": {},
   "source": [
    "## Resampling"
   ]
  },
  {
   "cell_type": "code",
   "execution_count": null,
   "id": "c55e4a0c",
   "metadata": {
    "ExecuteTime": {
     "end_time": "2023-07-04T00:02:57.725822Z",
     "start_time": "2023-07-04T00:02:57.719304Z"
    }
   },
   "outputs": [],
   "source": [
    "## Check the index to confirm the current freq\n",
    "ts.index"
   ]
  },
  {
   "cell_type": "markdown",
   "id": "fde6578f",
   "metadata": {},
   "source": [
    "### Resample as Weeks Frequency"
   ]
  },
  {
   "cell_type": "markdown",
   "id": "59a53b45",
   "metadata": {},
   "source": [
    "- We need to look up the correct frequency code for minutes: https://pandas.pydata.org/docs/user_guide/timeseries.html#dateoffset-objects \n",
    "    "
   ]
  },
  {
   "cell_type": "code",
   "execution_count": null,
   "id": "9be4fee3",
   "metadata": {
    "ExecuteTime": {
     "end_time": "2023-07-04T00:03:38.950805Z",
     "start_time": "2023-07-04T00:03:38.941298Z"
    }
   },
   "outputs": [],
   "source": [
    "## Resample as week, keeping last value\n",
    "ts_W = ##\n",
    "ts_W"
   ]
  },
  {
   "cell_type": "code",
   "execution_count": null,
   "id": "3d05ee3f",
   "metadata": {
    "ExecuteTime": {
     "end_time": "2023-07-03T22:06:02.866485Z",
     "start_time": "2023-07-03T22:06:02.859500Z"
    }
   },
   "outputs": [],
   "source": [
    "ts_W.index"
   ]
  },
  {
   "cell_type": "code",
   "execution_count": null,
   "id": "3d25c7e2",
   "metadata": {
    "ExecuteTime": {
     "end_time": "2023-07-05T22:11:41.320090Z",
     "start_time": "2023-07-05T22:11:40.737738Z"
    }
   },
   "outputs": [],
   "source": [
    "## Check day of week for the weekly entries.  What day is it?\n",
    "pd.to_datetime('2021-01-03').day_name()"
   ]
  },
  {
   "cell_type": "markdown",
   "id": "b642ec0d",
   "metadata": {},
   "source": [
    "### Let's resample and plot our ts as daily, weekly, and monthly to compare."
   ]
  },
  {
   "cell_type": "code",
   "execution_count": null,
   "id": "2bf28673",
   "metadata": {
    "ExecuteTime": {
     "end_time": "2023-07-04T00:04:46.456934Z",
     "start_time": "2023-07-04T00:04:45.142310Z"
    },
    "scrolled": false
   },
   "outputs": [],
   "source": [
    "freqs = ['D','W','M','Q','A']\n",
    "\n",
    "\n",
    "for freq in freqs:\n",
    "    ax = ts.plot(label='Original',  style='.-',\n",
    "            title=f'Comparing Resampled Frequencies: {freq}');\n",
    "\n",
    "    ts_temp = ts.resample(freq).last()\n",
    "    ts_temp.plot(style='o-', label=freq,ax=ax)\n",
    "    plt.legend()\n",
    "    plt.show()"
   ]
  },
  {
   "cell_type": "markdown",
   "id": "f33851ce",
   "metadata": {},
   "source": [
    "# Save the new processed data"
   ]
  },
  {
   "cell_type": "code",
   "execution_count": null,
   "id": "3e9e7f32",
   "metadata": {
    "ExecuteTime": {
     "end_time": "2023-07-04T00:06:16.484524Z",
     "start_time": "2023-07-04T00:06:16.479678Z"
    }
   },
   "outputs": [],
   "source": [
    "import os\n",
    "folder = \"Data/FromClass\"\n",
    "os.makedirs(folder, exist_ok=True)"
   ]
  },
  {
   "cell_type": "code",
   "execution_count": null,
   "id": "0e24bc59",
   "metadata": {
    "ExecuteTime": {
     "end_time": "2023-07-04T00:06:18.549181Z",
     "start_time": "2023-07-04T00:06:17.134626Z"
    }
   },
   "outputs": [],
   "source": [
    "df_ts.to_csv(folder + 'SP500-Close-Prices.csv')"
   ]
  },
  {
   "cell_type": "code",
   "execution_count": null,
   "id": "31a6be54",
   "metadata": {
    "ExecuteTime": {
     "end_time": "2023-07-04T00:06:27.884394Z",
     "start_time": "2023-07-04T00:06:27.861291Z"
    }
   },
   "outputs": [],
   "source": [
    "crypto_unstacked.to_csv(folder + 'crypto_currencies.csv')"
   ]
  },
  {
   "cell_type": "markdown",
   "id": "cd5665a5",
   "metadata": {},
   "source": [
    "# Appendix: Using Tick Date Formatters/Locators"
   ]
  },
  {
   "cell_type": "markdown",
   "id": "c1a1b934",
   "metadata": {},
   "source": [
    "- Let's add a minor xtick every 3 months.\n",
    "- Using matplotlib.dates library"
   ]
  },
  {
   "cell_type": "code",
   "execution_count": null,
   "id": "ec47099e",
   "metadata": {
    "ExecuteTime": {
     "end_time": "2023-07-04T00:06:53.394708Z",
     "start_time": "2023-07-04T00:06:53.389721Z"
    }
   },
   "outputs": [],
   "source": [
    "import matplotlib.dates as mdates"
   ]
  },
  {
   "cell_type": "code",
   "execution_count": null,
   "id": "742ff38b",
   "metadata": {
    "ExecuteTime": {
     "end_time": "2023-07-04T00:08:34.018141Z",
     "start_time": "2023-07-04T00:08:34.013439Z"
    }
   },
   "outputs": [],
   "source": [
    "## CREATE ARTISTS FOR MAJOR XTICKS (Years)\n",
    "# Create a year locator\n",
    "loc_major_yr = mdates.YearLocator()\n",
    "# Create a year formatter using 4-digit years\n",
    "fmt_major_yr = mdates.DateFormatter(\"%Y\")\n",
    "\n",
    "\n",
    "## CREATE ARTISTS FOR MINOR XTICKS ( Months)\n",
    "# Create a month locator that will add months at 1,4,7,10\n",
    "loc_minor_3m = mdates.MonthLocator(bymonth=[1,4,7,10])\n",
    "# Createa monthnformatter that will use 3-letter month names\n",
    "fmt_minor_3m = mdates.DateFormatter(\"%b\")"
   ]
  },
  {
   "cell_type": "code",
   "execution_count": null,
   "id": "185ccc7d",
   "metadata": {
    "ExecuteTime": {
     "end_time": "2023-07-04T00:09:23.968214Z",
     "start_time": "2023-07-04T00:09:22.135365Z"
    }
   },
   "outputs": [],
   "source": [
    "## Create our plot and save the ax\n",
    "ax = df_ts.plot()\n",
    "ax.set(ylabel=\"Stock Value\", title='S&P 500')\n",
    "\n",
    "# Set xaxis major locator/formatter\n",
    "ax.xaxis.set_major_locator(loc_major_yr)\n",
    "ax.xaxis.set_major_formatter(fmt_major_yr)\n",
    "\n",
    "\n",
    "# Set xaxis minor locator/formatter\n",
    "ax.xaxis.set_minor_locator(loc_minor_3m)\n",
    "ax.xaxis.set_minor_formatter(fmt_minor_3m)"
   ]
  },
  {
   "cell_type": "code",
   "execution_count": null,
   "id": "4d8c70a8",
   "metadata": {
    "ExecuteTime": {
     "end_time": "2023-07-04T00:11:11.357623Z",
     "start_time": "2023-07-04T00:11:09.503086Z"
    }
   },
   "outputs": [],
   "source": [
    "## Create our plot and save the ax\n",
    "ax = df_ts.plot()\n",
    "ax.set(ylabel=\"Stock Value\", title='S&P 500')\n",
    "\n",
    "# Set xaxis major locator/formatter\n",
    "ax.xaxis.set_major_locator(loc_major_yr)\n",
    "ax.xaxis.set_major_formatter(fmt_major_yr)\n",
    "\n",
    "\n",
    "# Set xaxis minor locator/formatter\n",
    "ax.xaxis.set_minor_locator(loc_minor_3m)\n",
    "ax.xaxis.set_minor_formatter(fmt_minor_3m)\n",
    "\n",
    "\n",
    "\n",
    "\n",
    "\n",
    "# Add gridlines for major xaxis ticks\n",
    "ax.grid(which='major',axis='x',color='k',ls=':',lw=1)\n",
    "\n",
    "## Rotate the major tick years using fig.autofmt_xdate\n",
    "fig = ax.get_figure()\n",
    "fig.autofmt_xdate(which='major', rotation=90, ha='center')"
   ]
  },
  {
   "cell_type": "code",
   "execution_count": null,
   "id": "6c416a03",
   "metadata": {
    "ExecuteTime": {
     "end_time": "2023-07-04T00:11:24.429745Z",
     "start_time": "2023-07-04T00:11:24.422221Z"
    }
   },
   "outputs": [],
   "source": [
    "def format_xdates_stocks(ax):\n",
    "    \n",
    "    # Create a year locator\n",
    "    loc_major_yr = mdates.YearLocator()\n",
    "    # Create a year formatter using 4-digit years\n",
    "    fmt_major_yr = mdates.DateFormatter(\"%Y\")\n",
    "\n",
    "\n",
    "    # Create a month locator that will add months at 1,4,7,10\n",
    "    loc_minor_3m = mdates.MonthLocator(bymonth=[1,4,7,10])\n",
    "    # Createa monthnformatter that will use 3-letter month names\n",
    "    fmt_minor_3m = mdates.DateFormatter(\"%b\")\n",
    "    \n",
    "\n",
    "    \n",
    "    # Set xaxis major locator/formatter\n",
    "    ax.xaxis.set_major_locator(loc_major_yr)\n",
    "    ax.xaxis.set_major_formatter(fmt_major_yr)\n",
    "\n",
    "\n",
    "    # Set xaxis minor locator/formatter\n",
    "    ax.xaxis.set_minor_locator(loc_minor_3m)\n",
    "    ax.xaxis.set_minor_formatter(fmt_minor_3m)\n",
    "\n",
    "    \n",
    "\n",
    "    # Add gridlines for major xaxis ticks\n",
    "    ax.grid(which='major',axis='x',color='k',ls=':',lw=1)\n",
    "\n",
    "    ## Rotate the major tick years using fig.autofmt_xdate\n",
    "    fig = ax.get_figure()\n",
    "    fig.autofmt_xdate(which='major', rotation=90,ha='center')\n",
    "    return fig\n"
   ]
  },
  {
   "cell_type": "code",
   "execution_count": null,
   "id": "01b8691e",
   "metadata": {
    "ExecuteTime": {
     "end_time": "2023-07-04T00:11:36.298115Z",
     "start_time": "2023-07-04T00:11:33.517112Z"
    },
    "scrolled": false
   },
   "outputs": [],
   "source": [
    "ax = df_ts.plot()\n",
    "format_xdates_stocks(ax);"
   ]
  },
  {
   "cell_type": "code",
   "execution_count": null,
   "id": "b41e3807",
   "metadata": {},
   "outputs": [],
   "source": []
  }
 ],
 "metadata": {
  "kernelspec": {
   "display_name": "Python (dojo-env)",
   "language": "python",
   "name": "dojo-env"
  },
  "language_info": {
   "codemirror_mode": {
    "name": "ipython",
    "version": 3
   },
   "file_extension": ".py",
   "mimetype": "text/x-python",
   "name": "python",
   "nbconvert_exporter": "python",
   "pygments_lexer": "ipython3",
   "version": "3.9.15"
  },
  "toc": {
   "base_numbering": 1,
   "nav_menu": {},
   "number_sections": false,
   "sideBar": true,
   "skip_h1_title": false,
   "title_cell": "Table of Contents",
   "title_sidebar": "Contents",
   "toc_cell": false,
   "toc_position": {
    "height": "calc(100% - 180px)",
    "left": "10px",
    "top": "150px",
    "width": "244.361px"
   },
   "toc_section_display": true,
   "toc_window_display": false
  }
 },
 "nbformat": 4,
 "nbformat_minor": 5
}
