{
 "cells": [
  {
   "cell_type": "markdown",
   "id": "bc021ffa",
   "metadata": {},
   "source": [
    "# Wk18 Lecture02 CodeAlong: UFOs"
   ]
  },
  {
   "cell_type": "markdown",
   "id": "f20b0a55",
   "metadata": {},
   "source": [
    "## Learning Objectives"
   ]
  },
  {
   "cell_type": "markdown",
   "id": "df5eb627",
   "metadata": {},
   "source": [
    "- By the end of this CodeAlong, students will be able to:\n",
    "   - Calculate time series statistics (rolling mean/std/diff/pct_change\n",
    "   - Perform feature engineering for time series EDA \n",
    "   - Aggregate time series using date parts to answer stakeholder questions.\n",
    "\n",
    "    "
   ]
  },
  {
   "cell_type": "markdown",
   "id": "f3202236",
   "metadata": {},
   "source": [
    "# 🕹️Part 1) Preparing Irregular-Interval Time Series"
   ]
  },
  {
   "cell_type": "markdown",
   "id": "60721cfc",
   "metadata": {},
   "source": [
    "### Overview from Last Lecture"
   ]
  },
  {
   "cell_type": "markdown",
   "id": "29c7c4cf",
   "metadata": {},
   "source": [
    "- 1) [ ] Convert the dates & times to a single column (if needed).\n",
    "- 2) [ ] Convert the datetime column  (most likely a string) to a datetime data type.\n",
    "- 3) [ ] Set the datetime column as the Series/DataFrame index\n",
    "- 4) [ ] Resample the time series to the desired/correct frequency using the desired/correct aggregation method.\n",
    "- 5) [ ] Impute null values (if required)\n"
   ]
  },
  {
   "cell_type": "markdown",
   "id": "aa1faf78",
   "metadata": {},
   "source": [
    "### UFO Sightings"
   ]
  },
  {
   "cell_type": "markdown",
   "id": "8336237c",
   "metadata": {},
   "source": [
    "- UFO Sightings: https://www.kaggle.com/datasets/NUFORC/ufo-sightings "
   ]
  },
  {
   "cell_type": "code",
   "execution_count": null,
   "id": "7dd25599",
   "metadata": {
    "ExecuteTime": {
     "end_time": "2023-06-08T21:16:10.340196Z",
     "start_time": "2023-06-08T21:16:07.649858Z"
    }
   },
   "outputs": [],
   "source": [
    "import pandas as pd\n",
    "import numpy as np\n",
    "import matplotlib.pyplot as plt\n",
    "import matplotlib.dates as mdates\n",
    "import matplotlib.ticker as mticks\n",
    "import seaborn as sns\n",
    "\n",
    "\n",
    "import missingno as miss\n",
    "import datetime as dt\n",
    "import statsmodels.tsa.api as tsa\n",
    "\n",
    "plt.rcParams['figure.figsize'] = [10,5]"
   ]
  },
  {
   "cell_type": "code",
   "execution_count": null,
   "id": "264ae028",
   "metadata": {
    "ExecuteTime": {
     "end_time": "2023-06-08T21:16:10.613615Z",
     "start_time": "2023-06-08T21:16:10.342163Z"
    },
    "scrolled": false
   },
   "outputs": [],
   "source": [
    "ufo  = pd.read_csv(\"Data/ufos-kaggle/scrubbed.csv\", low_memory=False)\n",
    "ufo"
   ]
  },
  {
   "cell_type": "code",
   "execution_count": null,
   "id": "12924d81",
   "metadata": {
    "ExecuteTime": {
     "end_time": "2023-06-08T21:16:10.710569Z",
     "start_time": "2023-06-08T21:16:10.615609Z"
    }
   },
   "outputs": [],
   "source": [
    "ufo.info()"
   ]
  },
  {
   "cell_type": "code",
   "execution_count": null,
   "id": "2becbc45",
   "metadata": {
    "ExecuteTime": {
     "end_time": "2023-06-08T21:16:13.313359Z",
     "start_time": "2023-06-08T21:16:10.712565Z"
    }
   },
   "outputs": [],
   "source": [
    "## convert latitude to float\n",
    "ufo['latitude'] = ufo['latitude'].astype('float64')\n",
    "ufo.info()"
   ]
  },
  {
   "cell_type": "code",
   "execution_count": null,
   "id": "96f37802",
   "metadata": {
    "ExecuteTime": {
     "end_time": "2023-06-08T21:16:17.961188Z",
     "start_time": "2023-06-08T21:16:17.850627Z"
    }
   },
   "outputs": [],
   "source": [
    "## Try again to convert type\n",
    "ufo['latitude'] = ufo['latitude'].str.replace('q','')\n",
    "\n",
    "ufo['latitude'] = ufo['latitude'].astype('float64')\n",
    "ufo.info()"
   ]
  },
  {
   "cell_type": "markdown",
   "id": "b742c5c1",
   "metadata": {},
   "source": [
    "## 1) Convert the dates & times to a single column (if needed).\n",
    "\n",
    "Datetime is already one column.  Nothing to do here."
   ]
  },
  {
   "cell_type": "markdown",
   "id": "a00469c1",
   "metadata": {},
   "source": [
    "## 2) Converting Date Cols to Datetime"
   ]
  },
  {
   "cell_type": "code",
   "execution_count": null,
   "id": "dd1c07ac",
   "metadata": {
    "ExecuteTime": {
     "end_time": "2023-06-08T21:16:19.540899Z",
     "start_time": "2023-06-08T21:16:18.697006Z"
    }
   },
   "outputs": [],
   "source": [
    "## convert datetime to datetime\n",
    "ufo['datetime'] = pd.to_datetime(ufo['datetime'])"
   ]
  },
  {
   "cell_type": "markdown",
   "id": "67538565",
   "metadata": {},
   "source": [
    "#### Handling Errors with pd.to_datetime"
   ]
  },
  {
   "cell_type": "markdown",
   "id": "d2e55b74",
   "metadata": {},
   "source": [
    "- Can use the `errors` argument for pd.to_datetime:\n",
    "    - \"raise\" (default): raise an exception when errors happen\n",
    "    - 'ignore': ignores the errors and returns the original value for that row. \n",
    "        - NOT RECOMMENDED: the entire column will not be datetime.\n",
    "    - 'coerce': convert any bad datetime values to null values (NaT - NotATime)"
   ]
  },
  {
   "cell_type": "markdown",
   "id": "d5ea5b07",
   "metadata": {},
   "source": [
    ">- **Branch point: we have a choice on how we deal with the bad timestamps.**\n",
    "    -  Do we coerce them, make then null values, and drop them? Potentially losing a lot of data.\n",
    "    - Or do we investigate a bit more to see if we can fix the problem without losing data.\n",
    "    \n",
    "    \n",
    "- Let's see how much data we would lose if we chose to coerce the bad values:"
   ]
  },
  {
   "cell_type": "code",
   "execution_count": null,
   "id": "460a3785",
   "metadata": {
    "ExecuteTime": {
     "end_time": "2023-06-08T21:17:03.930581Z",
     "start_time": "2023-06-08T21:17:03.905456Z"
    }
   },
   "outputs": [],
   "source": [
    "## saving a copy of original datetime column as datetime-original\n",
    "ufo['datetime-original'] = ufo['datetime'].copy()\n",
    "ufo"
   ]
  },
  {
   "cell_type": "code",
   "execution_count": null,
   "id": "2348ccaa",
   "metadata": {
    "ExecuteTime": {
     "end_time": "2023-06-08T21:17:04.230844Z",
     "start_time": "2023-06-08T21:17:04.137564Z"
    },
    "scrolled": true
   },
   "outputs": [],
   "source": [
    "##check nulls before coercing errors\n",
    "ufo.isna().sum()"
   ]
  },
  {
   "cell_type": "code",
   "execution_count": null,
   "id": "9a0fdfef",
   "metadata": {
    "ExecuteTime": {
     "end_time": "2023-06-08T21:17:15.050992Z",
     "start_time": "2023-06-08T21:17:08.506019Z"
    }
   },
   "outputs": [],
   "source": [
    "## Create a datetime-coerce column using pd.to_Datetime with errors = \"coerce\"\n",
    "ufo['datetime-coerce'] = pd.to_datetime(ufo['datetime-original'], errors='coerce')\n",
    "ufo"
   ]
  },
  {
   "cell_type": "code",
   "execution_count": null,
   "id": "5bd82444",
   "metadata": {
    "ExecuteTime": {
     "end_time": "2023-06-08T21:17:15.140291Z",
     "start_time": "2023-06-08T21:17:15.052989Z"
    }
   },
   "outputs": [],
   "source": [
    "## How many null values did we create?\n",
    "ufo.isna().sum()"
   ]
  },
  {
   "cell_type": "code",
   "execution_count": null,
   "id": "0e167eb7",
   "metadata": {
    "ExecuteTime": {
     "end_time": "2023-06-08T21:17:15.233028Z",
     "start_time": "2023-06-08T21:17:15.141288Z"
    }
   },
   "outputs": [],
   "source": [
    "## What % of dates became null?\n",
    "ufo.isna().sum() / len(ufo) *100"
   ]
  },
  {
   "cell_type": "markdown",
   "id": "93525fad",
   "metadata": {},
   "source": [
    "#### Acceptable # of Rows Lost, but there is another solution!"
   ]
  },
  {
   "cell_type": "code",
   "execution_count": null,
   "id": "c889e1f4",
   "metadata": {
    "ExecuteTime": {
     "end_time": "2023-06-08T21:17:15.258329Z",
     "start_time": "2023-06-08T21:17:15.233028Z"
    }
   },
   "outputs": [],
   "source": [
    "ufo"
   ]
  },
  {
   "cell_type": "code",
   "execution_count": null,
   "id": "a6d13418",
   "metadata": {
    "ExecuteTime": {
     "end_time": "2023-06-08T21:17:15.295381Z",
     "start_time": "2023-06-08T21:17:15.259298Z"
    }
   },
   "outputs": [],
   "source": [
    "## inspecting just the bad rows\n",
    "bad_rows = ufo[ufo['datetime-coerce'].isna()]\n",
    "bad_rows"
   ]
  },
  {
   "cell_type": "code",
   "execution_count": null,
   "id": "c3159cd4",
   "metadata": {
    "ExecuteTime": {
     "end_time": "2023-06-08T21:17:15.311368Z",
     "start_time": "2023-06-08T21:17:15.296379Z"
    }
   },
   "outputs": [],
   "source": [
    "## let's try to convert the bad rows again\n",
    "try:\n",
    "    pd.to_datetime(bad_rows['datetime-original'])\n",
    "except Exception as e:\n",
    "    display(e)"
   ]
  },
  {
   "cell_type": "markdown",
   "id": "3c2733cf",
   "metadata": {},
   "source": [
    "> 🤔\"`ParserError: hour must be in 0..23: 10/11/2006 24:00 present at position 0`\""
   ]
  },
  {
   "cell_type": "code",
   "execution_count": null,
   "id": "9cd52710",
   "metadata": {
    "ExecuteTime": {
     "end_time": "2023-06-08T21:17:15.321158Z",
     "start_time": "2023-06-08T21:17:15.312846Z"
    }
   },
   "outputs": [],
   "source": [
    "bad_rows['datetime-original']"
   ]
  },
  {
   "cell_type": "markdown",
   "id": "12633237",
   "metadata": {},
   "source": [
    "> Panda's is confused by 24:00. It doesn't know if we mean 0:00 of the NEXT day or if we mean the 11:59 pm (23:59) the same day"
   ]
  },
  {
   "cell_type": "code",
   "execution_count": null,
   "id": "71db3e8e",
   "metadata": {
    "ExecuteTime": {
     "end_time": "2023-06-08T21:17:15.381591Z",
     "start_time": "2023-06-08T21:17:15.321158Z"
    }
   },
   "outputs": [],
   "source": [
    "## replace 24:00 with 23:59\n",
    "ufo['datetime-fixed'] = ufo[\"datetime-original\"].str.replace(\"24:00\", \"23:59\")\n",
    "ufo"
   ]
  },
  {
   "cell_type": "code",
   "execution_count": null,
   "id": "aab75bda",
   "metadata": {
    "ExecuteTime": {
     "end_time": "2023-06-08T21:17:21.830450Z",
     "start_time": "2023-06-08T21:17:15.382560Z"
    }
   },
   "outputs": [],
   "source": [
    "## use the fixed-datetime column to make the datetime col\n",
    "ufo['datetime'] = pd.to_datetime(ufo[\"datetime-fixed\"])\n",
    "ufo"
   ]
  },
  {
   "cell_type": "code",
   "execution_count": null,
   "id": "84fb0be0",
   "metadata": {
    "ExecuteTime": {
     "end_time": "2023-06-08T21:17:21.925253Z",
     "start_time": "2023-06-08T21:17:21.833419Z"
    }
   },
   "outputs": [],
   "source": [
    "ufo.isna().sum()"
   ]
  },
  {
   "cell_type": "markdown",
   "id": "d5c58dfe",
   "metadata": {},
   "source": [
    "## 3) Setting datetime index"
   ]
  },
  {
   "cell_type": "code",
   "execution_count": null,
   "id": "b461d84b",
   "metadata": {
    "ExecuteTime": {
     "end_time": "2023-06-08T21:19:01.264241Z",
     "start_time": "2023-06-08T21:19:00.195640Z"
    }
   },
   "outputs": [],
   "source": [
    "## Create ufo_ts by setting the datetime index\n",
    "ufo_ts = ufo.set_index('datetime')\n",
    "ufo_ts"
   ]
  },
  {
   "cell_type": "code",
   "execution_count": null,
   "id": "cade062a",
   "metadata": {
    "ExecuteTime": {
     "end_time": "2023-06-08T21:19:01.276527Z",
     "start_time": "2023-06-08T21:19:01.266238Z"
    }
   },
   "outputs": [],
   "source": [
    "## Drop any remaining datetime columns\n",
    "dt_cols = [c for c in ufo_ts.columns if 'datetime' in c]\n",
    "dt_cols"
   ]
  },
  {
   "cell_type": "code",
   "execution_count": null,
   "id": "a204d944",
   "metadata": {
    "ExecuteTime": {
     "end_time": "2023-06-08T21:19:01.300719Z",
     "start_time": "2023-06-08T21:19:01.278368Z"
    }
   },
   "outputs": [],
   "source": [
    "# check the index to confirm its datetime\n",
    "ufo_ts = ufo_ts.drop(columns=dt_cols)\n",
    "ufo_ts"
   ]
  },
  {
   "cell_type": "code",
   "execution_count": null,
   "id": "94d099ee",
   "metadata": {
    "ExecuteTime": {
     "end_time": "2023-06-08T21:19:01.535726Z",
     "start_time": "2023-06-08T21:19:01.513785Z"
    }
   },
   "outputs": [],
   "source": [
    "ufo_ts.index"
   ]
  },
  {
   "cell_type": "markdown",
   "id": "9c567112",
   "metadata": {},
   "source": [
    "## 4) Resample Data to Desired Frequency\n",
    "\n",
    "What frequency should we resample our data to?  This requires some thinking"
   ]
  },
  {
   "cell_type": "markdown",
   "id": "0d1c2594",
   "metadata": {},
   "source": [
    "### Let's visualize Our Data"
   ]
  },
  {
   "cell_type": "code",
   "execution_count": null,
   "id": "e1e3e6b0",
   "metadata": {
    "ExecuteTime": {
     "end_time": "2023-06-08T21:16:23.189382Z",
     "start_time": "2023-06-08T21:16:23.189382Z"
    }
   },
   "outputs": [],
   "source": [
    "## Plot the full dataset\n",
    "# ufo_ts.plot()"
   ]
  },
  {
   "cell_type": "markdown",
   "id": "a2ecaabe",
   "metadata": {},
   "source": [
    "> Hmmmm.... what are we *trying* to visualize?\n",
    "\n"
   ]
  },
  {
   "cell_type": "markdown",
   "id": "5b4a0b46",
   "metadata": {},
   "source": [
    "**What do we really want to know about UFO's?**\n",
    "- Duration of sighting?\n",
    "- Location of sighting?\n",
    "- Number of sightings?"
   ]
  },
  {
   "cell_type": "code",
   "execution_count": null,
   "id": "3359ac7e",
   "metadata": {
    "ExecuteTime": {
     "end_time": "2023-06-08T21:19:08.516390Z",
     "start_time": "2023-06-08T21:19:08.490460Z"
    }
   },
   "outputs": [],
   "source": [
    "ufo_ts"
   ]
  },
  {
   "cell_type": "markdown",
   "id": "f9a04cec",
   "metadata": {},
   "source": [
    "### Converting to Daily Frequency"
   ]
  },
  {
   "cell_type": "markdown",
   "id": "a34f59b0",
   "metadata": {},
   "source": [
    "**We want to quantify the number of events that occurred within each interval.**\n",
    "\n",
    ">- Q: How could we do this? (there's several ways)\n",
    "\n",
    "1. Add a column of all 1s and sum them up for each day\n",
    "2. Resample by day and aggregate by the number of entries for each day\n"
   ]
  },
  {
   "cell_type": "code",
   "execution_count": null,
   "id": "3173a553",
   "metadata": {
    "ExecuteTime": {
     "end_time": "2023-06-08T21:19:58.148452Z",
     "start_time": "2023-06-08T21:19:58.122534Z"
    }
   },
   "outputs": [],
   "source": [
    "## A.1) Add a count column with a value of 1 for each row and then use reasmple().sum()\n",
    "demo_ts = ufo_ts.copy()\n",
    "demo_ts['Count'] = 1\n",
    "demo_ts"
   ]
  },
  {
   "cell_type": "code",
   "execution_count": null,
   "id": "462ae029",
   "metadata": {
    "ExecuteTime": {
     "end_time": "2023-06-08T21:20:03.237434Z",
     "start_time": "2023-06-08T21:20:03.170748Z"
    }
   },
   "outputs": [],
   "source": [
    "# A.2) resample and take sum\n",
    "demo_ts.resample(\"D\").sum()"
   ]
  },
  {
   "cell_type": "code",
   "execution_count": null,
   "id": "e57fa5a5",
   "metadata": {
    "ExecuteTime": {
     "end_time": "2023-06-08T21:20:08.381304Z",
     "start_time": "2023-06-08T21:20:08.338248Z"
    }
   },
   "outputs": [],
   "source": [
    "## Option B) use .size\n",
    "ufo_ts.resample(\"D\").size()"
   ]
  },
  {
   "cell_type": "markdown",
   "id": "ad188a5a",
   "metadata": {},
   "source": [
    "### Make `ts` from ufo_ts"
   ]
  },
  {
   "cell_type": "code",
   "execution_count": null,
   "id": "6d27a4eb",
   "metadata": {
    "ExecuteTime": {
     "end_time": "2023-06-08T21:20:18.888117Z",
     "start_time": "2023-06-08T21:20:18.850192Z"
    }
   },
   "outputs": [],
   "source": [
    "## Resample as daily data \n",
    "ts = ufo_ts.resample('D').size()\n",
    "ts"
   ]
  },
  {
   "cell_type": "code",
   "execution_count": null,
   "id": "03c0714d",
   "metadata": {
    "ExecuteTime": {
     "end_time": "2023-06-08T21:20:22.792993Z",
     "start_time": "2023-06-08T21:20:22.210382Z"
    }
   },
   "outputs": [],
   "source": [
    "# plot the ts\n",
    "ts.plot();\n"
   ]
  },
  {
   "cell_type": "markdown",
   "id": "891a0c3c",
   "metadata": {},
   "source": [
    "Is all of this data relevant and interesting?  When did sightings really start becoming significant?\n"
   ]
  },
  {
   "cell_type": "code",
   "execution_count": null,
   "id": "642c0036",
   "metadata": {
    "ExecuteTime": {
     "end_time": "2023-06-08T21:21:28.350692Z",
     "start_time": "2023-06-08T21:21:27.682253Z"
    }
   },
   "outputs": [],
   "source": [
    "## keep only 1950 and later\n",
    "ts = ts.loc[\"1950\":]\n",
    "ts.plot()"
   ]
  },
  {
   "cell_type": "markdown",
   "id": "09867db1",
   "metadata": {},
   "source": [
    "# Part 2) Aggregating Full Dataset Using Date Parts"
   ]
  },
  {
   "cell_type": "markdown",
   "id": "527483ce",
   "metadata": {},
   "source": [
    "## 📝 **Stakeholder Questions to Answer**"
   ]
  },
  {
   "cell_type": "markdown",
   "id": "3ac5849c",
   "metadata": {},
   "source": [
    "**ANSWER TOGETHER:**\n",
    "- 1) What Month and Year had the most sightings? (and how many sightings were there?)\n",
    "\n",
    "- 2) Which month of the year has had the highest total number of reported sightings??\n",
    "- 3) Is there a seasonal pattern to UFO sightings? If so, how long is the season?\n",
    "\n",
    "- 4) Which US holiday has the largest number of sightings?\n",
    "___\n",
    "**ANSWER SELECTED Q's IN BREAKOUT ROOMS**\n",
    "\n",
    "- 5) Which year had the highest % increase in sightings compared to previous years? (since 1950)\n",
    "\n",
    "- 6) What day of the week has the highest reported sightings?\n",
    "\n",
    "- 7) At what time of day (hour) do most sightings occur?\n",
    "\n",
    "- 8) Which US state has the most sightings?\n",
    "\n",
    "- 9) Which country had the largest proportion of sightings for the year 2000?\n",
    "\n",
    "- 10) Have the types/shapes of UFO's witness changed over time?\n",
    "    - Tip: use only the 4 most common shapes"
   ]
  },
  {
   "cell_type": "markdown",
   "id": "10edfa6d",
   "metadata": {},
   "source": [
    "### Making `eda_df` for answering questions\n",
    "\n",
    "In order to access the datetime library of methods in Pandas, we will need to convert `datetime` back into a column.  A datetime index does not have the methods we need."
   ]
  },
  {
   "cell_type": "code",
   "execution_count": null,
   "id": "08d52077",
   "metadata": {
    "ExecuteTime": {
     "end_time": "2023-06-08T21:28:54.903151Z",
     "start_time": "2023-06-08T21:28:54.881245Z"
    }
   },
   "outputs": [],
   "source": [
    "## making eda_df with date as a column instead of index\n",
    "eda_df = ufo_ts.reset_index()\n",
    "eda_df"
   ]
  },
  {
   "cell_type": "markdown",
   "id": "612232e9",
   "metadata": {},
   "source": [
    "## Feature Engineering: Date Parts"
   ]
  },
  {
   "cell_type": "markdown",
   "id": "0b44dcb6",
   "metadata": {},
   "source": [
    "- Datetime objects have:\n",
    "    - year\n",
    "    - month\n",
    "    - month_name()\n",
    "    - day\n",
    "    - day_name()\n",
    "    - hour\n",
    "    - seconds\n",
    "    \n",
    "- Pandas has a `.dt.` accessor to use datetime methods on an entire column at once."
   ]
  },
  {
   "cell_type": "code",
   "execution_count": null,
   "id": "e47525f5",
   "metadata": {
    "ExecuteTime": {
     "end_time": "2023-06-08T21:28:58.678730Z",
     "start_time": "2023-06-08T21:28:58.601277Z"
    }
   },
   "outputs": [],
   "source": [
    "## feature engineering for dates\n",
    "eda_df['year'] = eda_df['datetime'].dt.year\n",
    "eda_df['month'] = eda_df['datetime'].dt.month_name()\n",
    "eda_df['day of month'] = eda_df['datetime'].dt.day\n",
    "eda_df['day of week'] = eda_df['datetime'].dt.day_name()\n",
    "eda_df['hour'] = eda_df['datetime'].dt.hour\n",
    "eda_df"
   ]
  },
  {
   "cell_type": "markdown",
   "id": "72e66a9b",
   "metadata": {},
   "source": [
    "> Let's add a \"weekend\" feature that will be True if the day was a Saturday or Sunday."
   ]
  },
  {
   "cell_type": "code",
   "execution_count": null,
   "id": "a35d69b2",
   "metadata": {
    "ExecuteTime": {
     "end_time": "2023-06-08T21:29:12.753571Z",
     "start_time": "2023-06-08T21:29:12.728637Z"
    }
   },
   "outputs": [],
   "source": [
    "## let's add a weekend feature\n",
    "eda_df['weekend'] = eda_df['day of week'].isin(['Saturday','Sunday'])\n",
    "eda_df"
   ]
  },
  {
   "cell_type": "markdown",
   "id": "32330fca",
   "metadata": {},
   "source": [
    "#### Let's add a column for the decade"
   ]
  },
  {
   "cell_type": "code",
   "execution_count": null,
   "id": "0628e5c9",
   "metadata": {
    "ExecuteTime": {
     "end_time": "2023-06-08T21:29:28.546889Z",
     "start_time": "2023-06-08T21:29:28.521956Z"
    }
   },
   "outputs": [],
   "source": [
    "## Calculate decade by subtracting the remainder and div by 10\n",
    "eda_df['decade'] = eda_df['year'] - eda_df['year']%10\n",
    "eda_df"
   ]
  },
  {
   "cell_type": "markdown",
   "id": "8352946d",
   "metadata": {},
   "source": [
    "## 🕹️ Answering Stakeholder Questions (Together)"
   ]
  },
  {
   "cell_type": "markdown",
   "id": "6fce8a17",
   "metadata": {},
   "source": [
    "### Making `eda_ts` & `ts`"
   ]
  },
  {
   "cell_type": "code",
   "execution_count": null,
   "id": "31028536",
   "metadata": {
    "ExecuteTime": {
     "end_time": "2023-06-08T21:32:00.348678Z",
     "start_time": "2023-06-08T21:32:00.304704Z"
    }
   },
   "outputs": [],
   "source": [
    "## Making eda_ts with dt index\n",
    "eda_ts = eda_df.set_index('datetime')\n",
    "eda_ts"
   ]
  },
  {
   "cell_type": "markdown",
   "id": "423fc596",
   "metadata": {},
   "source": [
    "### 1) What Month/Year had the most sightings? (and how many sightings were there?)\n"
   ]
  },
  {
   "cell_type": "code",
   "execution_count": null,
   "id": "1f356da0",
   "metadata": {
    "ExecuteTime": {
     "end_time": "2023-06-08T21:32:06.249114Z",
     "start_time": "2023-06-08T21:32:06.153057Z"
    }
   },
   "outputs": [],
   "source": [
    "## make a ts that is resampled to monthly\n",
    "ts = eda_ts.resample(\"M\").size()\n",
    "ts"
   ]
  },
  {
   "cell_type": "code",
   "execution_count": null,
   "id": "2a642dcd",
   "metadata": {
    "ExecuteTime": {
     "end_time": "2023-06-08T21:32:25.813742Z",
     "start_time": "2023-06-08T21:32:25.793815Z"
    }
   },
   "outputs": [],
   "source": [
    "## get the date of the max sightings\n"
   ]
  },
  {
   "cell_type": "code",
   "execution_count": null,
   "id": "b5542912",
   "metadata": {
    "ExecuteTime": {
     "end_time": "2023-06-08T21:32:59.042580Z",
     "start_time": "2023-06-08T21:32:59.025626Z"
    }
   },
   "outputs": [],
   "source": [
    "# how many sightings?\n"
   ]
  },
  {
   "cell_type": "code",
   "execution_count": null,
   "id": "ed1efb1e",
   "metadata": {
    "ExecuteTime": {
     "end_time": "2023-06-08T21:33:31.293383Z",
     "start_time": "2023-06-08T21:33:31.113523Z"
    }
   },
   "outputs": [],
   "source": [
    "## Plot the ts and add vertical line at month with most sightings\n"
   ]
  },
  {
   "cell_type": "markdown",
   "id": "e08c6daa",
   "metadata": {},
   "source": [
    "### 2) Which month of the year has had the highest total number of reported sightings?"
   ]
  },
  {
   "cell_type": "code",
   "execution_count": null,
   "id": "e7bd4974",
   "metadata": {
    "ExecuteTime": {
     "end_time": "2023-06-08T21:39:32.497576Z",
     "start_time": "2023-06-08T21:39:32.287699Z"
    }
   },
   "outputs": [],
   "source": []
  },
  {
   "cell_type": "markdown",
   "id": "8b94a204",
   "metadata": {},
   "source": [
    "\n",
    "### 3) Is there a seasonal pattern to UFO sightings? If so, how long is the season?"
   ]
  },
  {
   "cell_type": "markdown",
   "id": "934fe4a1",
   "metadata": {},
   "source": [
    "### Seasonality"
   ]
  },
  {
   "cell_type": "code",
   "execution_count": null,
   "id": "283ae884",
   "metadata": {
    "ExecuteTime": {
     "end_time": "2023-06-08T21:40:30.217957Z",
     "start_time": "2023-06-08T21:40:30.199975Z"
    }
   },
   "outputs": [],
   "source": [
    "import statsmodels.tsa.api as tsa"
   ]
  },
  {
   "cell_type": "code",
   "execution_count": null,
   "id": "d22fdf26",
   "metadata": {
    "ExecuteTime": {
     "end_time": "2023-06-08T21:40:30.616941Z",
     "start_time": "2023-06-08T21:40:30.599955Z"
    },
    "scrolled": true
   },
   "outputs": [],
   "source": [
    "## Isolate just years since 2000 to capture recent trends\n"
   ]
  },
  {
   "cell_type": "code",
   "execution_count": null,
   "id": "63cab871",
   "metadata": {
    "ExecuteTime": {
     "end_time": "2023-06-08T21:40:36.541252Z",
     "start_time": "2023-06-08T21:40:36.352830Z"
    }
   },
   "outputs": [],
   "source": [
    "## plot the sliced ts\n"
   ]
  },
  {
   "cell_type": "code",
   "execution_count": null,
   "id": "c76c6785",
   "metadata": {
    "ExecuteTime": {
     "end_time": "2023-06-08T21:40:43.342488Z",
     "start_time": "2023-06-08T21:40:43.329326Z"
    },
    "scrolled": true
   },
   "outputs": [],
   "source": [
    "## Isolate trend and seasonal components with seasonal_decompose()\n"
   ]
  },
  {
   "cell_type": "code",
   "execution_count": null,
   "id": "b211a8b5",
   "metadata": {
    "ExecuteTime": {
     "end_time": "2023-06-08T21:40:48.067446Z",
     "start_time": "2023-06-08T21:40:47.393938Z"
    }
   },
   "outputs": [],
   "source": [
    "## Plot the decomposition\n"
   ]
  },
  {
   "cell_type": "code",
   "execution_count": null,
   "id": "fcc8de40",
   "metadata": {
    "ExecuteTime": {
     "end_time": "2023-06-08T21:41:26.544897Z",
     "start_time": "2023-06-08T21:41:26.393278Z"
    },
    "scrolled": false
   },
   "outputs": [],
   "source": [
    "## separate seasonal component and plot\n"
   ]
  },
  {
   "cell_type": "markdown",
   "id": "dddea2d0",
   "metadata": {},
   "source": [
    "### 4) Which US holiday has the largest number of sightings?"
   ]
  },
  {
   "cell_type": "markdown",
   "id": "100422b2",
   "metadata": {},
   "source": [
    "#### Feature Engineering: Holidays"
   ]
  },
  {
   "cell_type": "code",
   "execution_count": null,
   "id": "0e80106c",
   "metadata": {
    "ExecuteTime": {
     "end_time": "2023-06-08T21:42:10.817486Z",
     "start_time": "2023-06-08T21:42:10.640837Z"
    }
   },
   "outputs": [],
   "source": [
    "# !pip install holidays\n",
    "import holidays\n",
    "import datetime as dt\n",
    "from holidays import country_holidays"
   ]
  },
  {
   "cell_type": "code",
   "execution_count": null,
   "id": "53a4ed3d",
   "metadata": {
    "ExecuteTime": {
     "end_time": "2023-06-08T21:42:13.696585Z",
     "start_time": "2023-06-08T21:42:13.671651Z"
    }
   },
   "outputs": [],
   "source": [
    "## Create an instance of the US country holidays.\n"
   ]
  },
  {
   "cell_type": "code",
   "execution_count": null,
   "id": "9217da70",
   "metadata": {
    "ExecuteTime": {
     "end_time": "2023-06-08T21:42:16.671370Z",
     "start_time": "2023-06-08T21:42:16.656383Z"
    }
   },
   "outputs": [],
   "source": [
    "## create a test holiday \n",
    "test = \"01/01/2015\"\n",
    "test"
   ]
  },
  {
   "cell_type": "code",
   "execution_count": null,
   "id": "0f90b9a8",
   "metadata": {
    "ExecuteTime": {
     "end_time": "2023-06-08T21:42:22.249148Z",
     "start_time": "2023-06-08T21:42:22.241096Z"
    }
   },
   "outputs": [],
   "source": [
    "## use .get() to test the api \n"
   ]
  },
  {
   "cell_type": "code",
   "execution_count": null,
   "id": "6788f0d6",
   "metadata": {
    "ExecuteTime": {
     "end_time": "2023-06-08T21:42:54.978714Z",
     "start_time": "2023-06-08T21:42:54.864495Z"
    }
   },
   "outputs": [],
   "source": [
    "## Map the api's .get method onto the df to get all holidays\n",
    "\n",
    "## Check the unique holidays\n"
   ]
  },
  {
   "cell_type": "markdown",
   "id": "c54e83b7",
   "metadata": {},
   "source": [
    "Apparently Juneteenth has made it on there yet."
   ]
  },
  {
   "cell_type": "markdown",
   "id": "67b94435",
   "metadata": {},
   "source": [
    "#### Answer to which holiday has most sightings:"
   ]
  },
  {
   "cell_type": "code",
   "execution_count": null,
   "id": "4ed27cd6",
   "metadata": {
    "ExecuteTime": {
     "end_time": "2023-06-08T21:43:20.900749Z",
     "start_time": "2023-06-08T21:43:20.880802Z"
    }
   },
   "outputs": [],
   "source": []
  },
  {
   "cell_type": "markdown",
   "id": "4548fce5",
   "metadata": {},
   "source": [
    "#### Wait...when did **that** movie come out?"
   ]
  },
  {
   "cell_type": "code",
   "execution_count": null,
   "id": "314f6266",
   "metadata": {
    "ExecuteTime": {
     "end_time": "2023-06-08T21:44:27.249572Z",
     "start_time": "2023-06-08T21:44:27.239598Z"
    }
   },
   "outputs": [],
   "source": [
    "release_date= '1997-07-03'"
   ]
  },
  {
   "cell_type": "code",
   "execution_count": null,
   "id": "eb00ce8c",
   "metadata": {
    "ExecuteTime": {
     "end_time": "2023-06-08T21:45:47.864733Z",
     "start_time": "2023-06-08T21:45:47.688949Z"
    },
    "scrolled": false
   },
   "outputs": [],
   "source": [
    "## Plot the # of sightings over time and annotate the release date\n"
   ]
  },
  {
   "cell_type": "markdown",
   "id": "eb5243c3",
   "metadata": {},
   "source": [
    "### 7-day Rolling Mean of Daily Sightings\n",
    "This is so noisy, let's try plotting a rolling mean."
   ]
  },
  {
   "cell_type": "code",
   "execution_count": null,
   "id": "af19789d",
   "metadata": {
    "ExecuteTime": {
     "end_time": "2023-06-08T21:46:12.517252Z",
     "start_time": "2023-06-08T21:46:12.015405Z"
    }
   },
   "outputs": [],
   "source": []
  },
  {
   "cell_type": "markdown",
   "id": "2eca3367",
   "metadata": {},
   "source": [
    "## 🏓**Breakout Rooms: Answering Stakeholder Questions**"
   ]
  },
  {
   "cell_type": "markdown",
   "id": "cb32f8cc",
   "metadata": {},
   "source": [
    "**Choose 1-2 of the remaining questions and work in breakout rooms to answer them:**\n",
    "- 5) Which year had the highest % increase in sightings compared to previous years?\n",
    "- 6) What day of the week has the highest reported sightings?\n",
    "- 7) At what time of day (hour) do most sightings occur?\n",
    "- 8) Which US state has the most sightings?\n",
    "- 9) Which country had the largest proportion of sightings for the year 2000?\n",
    "- 10) Have the types/shapes of UFO's witness changed over time?\n",
    "    - Tip: use only the 4 most common shapes\n",
    "\n"
   ]
  },
  {
   "cell_type": "markdown",
   "id": "15f50277",
   "metadata": {},
   "source": [
    "### 5) Which year had the highest % increase in sightings compared to previous years? (since 1950)"
   ]
  },
  {
   "cell_type": "code",
   "execution_count": null,
   "id": "af2d363e",
   "metadata": {},
   "outputs": [],
   "source": []
  },
  {
   "cell_type": "markdown",
   "id": "1c33f59e",
   "metadata": {},
   "source": [
    "### 6) What day of the week has the highest reported sightings?"
   ]
  },
  {
   "cell_type": "code",
   "execution_count": null,
   "id": "1253d143",
   "metadata": {},
   "outputs": [],
   "source": []
  },
  {
   "cell_type": "markdown",
   "id": "67e5c3e7",
   "metadata": {},
   "source": [
    "### 6) Which country had the largest proportion of sightings for the year 2000?"
   ]
  },
  {
   "cell_type": "code",
   "execution_count": null,
   "id": "273cd18d",
   "metadata": {},
   "outputs": [],
   "source": []
  },
  {
   "cell_type": "markdown",
   "id": "194202ac",
   "metadata": {},
   "source": [
    "### 7) Have the types/shapes of UFO's witness changed over time?"
   ]
  },
  {
   "cell_type": "code",
   "execution_count": null,
   "id": "33c1c0aa",
   "metadata": {},
   "outputs": [],
   "source": []
  },
  {
   "cell_type": "markdown",
   "id": "2a91207f",
   "metadata": {},
   "source": [
    "___\n",
    "# Bonus: Plotly Express"
   ]
  },
  {
   "cell_type": "code",
   "execution_count": null,
   "id": "9be49b30",
   "metadata": {
    "ExecuteTime": {
     "end_time": "2023-06-08T21:50:58.567203Z",
     "start_time": "2023-06-08T21:50:58.416050Z"
    }
   },
   "outputs": [],
   "source": [
    "import plotly.express as px\n",
    "import plotly.io as pio"
   ]
  },
  {
   "cell_type": "markdown",
   "id": "b21a4e82",
   "metadata": {},
   "source": [
    "### Map Over Time"
   ]
  },
  {
   "cell_type": "code",
   "execution_count": null,
   "id": "8c2af13b",
   "metadata": {
    "ExecuteTime": {
     "end_time": "2023-06-08T21:50:58.874526Z",
     "start_time": "2023-06-08T21:50:58.832375Z"
    }
   },
   "outputs": [],
   "source": [
    "eda_df = eda_df.sort_values('decade')\n",
    "eda_df.columns = eda_df.columns.str.strip()\n",
    "eda_df['latitude'] = pd.to_numeric(eda_df['latitude'], errors='coerce')\n",
    "eda_df.head()"
   ]
  },
  {
   "cell_type": "code",
   "execution_count": null,
   "id": "114f1d98",
   "metadata": {
    "ExecuteTime": {
     "end_time": "2023-06-08T21:51:01.230498Z",
     "start_time": "2023-06-08T21:50:59.687294Z"
    }
   },
   "outputs": [],
   "source": [
    "px.scatter_geo(data_frame=eda_df, lat='latitude',lon='longitude', animation_frame=\"decade\",\n",
    "              template='ggplot2')"
   ]
  },
  {
   "cell_type": "code",
   "execution_count": null,
   "id": "32aafc1d",
   "metadata": {},
   "outputs": [],
   "source": []
  },
  {
   "cell_type": "code",
   "execution_count": null,
   "id": "e3f452f9",
   "metadata": {},
   "outputs": [],
   "source": []
  }
 ],
 "metadata": {
  "kernelspec": {
   "display_name": "Python (dojo-env)",
   "language": "python",
   "name": "dojo-env"
  },
  "language_info": {
   "codemirror_mode": {
    "name": "ipython",
    "version": 3
   },
   "file_extension": ".py",
   "mimetype": "text/x-python",
   "name": "python",
   "nbconvert_exporter": "python",
   "pygments_lexer": "ipython3",
   "version": "3.9.15"
  },
  "toc": {
   "base_numbering": 1,
   "nav_menu": {},
   "number_sections": false,
   "sideBar": true,
   "skip_h1_title": false,
   "title_cell": "Table of Contents",
   "title_sidebar": "Contents",
   "toc_cell": false,
   "toc_position": {
    "height": "calc(100% - 180px)",
    "left": "10px",
    "top": "150px",
    "width": "165px"
   },
   "toc_section_display": true,
   "toc_window_display": true
  },
  "widgets": {
   "application/vnd.jupyter.widget-state+json": {
    "state": {},
    "version_major": 2,
    "version_minor": 0
   }
  }
 },
 "nbformat": 4,
 "nbformat_minor": 5
}
